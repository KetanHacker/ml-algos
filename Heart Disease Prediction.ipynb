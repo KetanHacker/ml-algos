{
 "cells": [
  {
   "cell_type": "code",
   "execution_count": 147,
   "id": "e3ccf3c0",
   "metadata": {},
   "outputs": [],
   "source": [
    "import pandas as pd\n",
    "import matplotlib.pyplot as plt\n",
    "import numpy as np\n",
    "import seaborn as sns\n",
    "from sklearn import preprocessing\n",
    "from sklearn.ensemble import RandomForestClassifier\n",
    "from sklearn.metrics import classification_report, roc_auc_score\n",
    "from imblearn.over_sampling import SMOTE\n",
    "from sklearn.svm import SVC\n",
    "from sklearn.metrics import accuracy_score"
   ]
  },
  {
   "cell_type": "markdown",
   "id": "01c33abb",
   "metadata": {},
   "source": [
    "## Data PreprPreprocessing "
   ]
  },
  {
   "cell_type": "code",
   "execution_count": 48,
   "id": "ff781642",
   "metadata": {},
   "outputs": [],
   "source": [
    "disease = pd.read_csv(\"framingham.csv\")"
   ]
  },
  {
   "cell_type": "code",
   "execution_count": 49,
   "id": "3db6d20e",
   "metadata": {},
   "outputs": [
    {
     "data": {
      "text/html": [
       "<div>\n",
       "<style scoped>\n",
       "    .dataframe tbody tr th:only-of-type {\n",
       "        vertical-align: middle;\n",
       "    }\n",
       "\n",
       "    .dataframe tbody tr th {\n",
       "        vertical-align: top;\n",
       "    }\n",
       "\n",
       "    .dataframe thead th {\n",
       "        text-align: right;\n",
       "    }\n",
       "</style>\n",
       "<table border=\"1\" class=\"dataframe\">\n",
       "  <thead>\n",
       "    <tr style=\"text-align: right;\">\n",
       "      <th></th>\n",
       "      <th>male</th>\n",
       "      <th>age</th>\n",
       "      <th>education</th>\n",
       "      <th>currentSmoker</th>\n",
       "      <th>cigsPerDay</th>\n",
       "      <th>BPMeds</th>\n",
       "      <th>prevalentStroke</th>\n",
       "      <th>prevalentHyp</th>\n",
       "      <th>diabetes</th>\n",
       "      <th>totChol</th>\n",
       "      <th>sysBP</th>\n",
       "      <th>diaBP</th>\n",
       "      <th>BMI</th>\n",
       "      <th>heartRate</th>\n",
       "      <th>glucose</th>\n",
       "      <th>TenYearCHD</th>\n",
       "    </tr>\n",
       "  </thead>\n",
       "  <tbody>\n",
       "    <tr>\n",
       "      <th>0</th>\n",
       "      <td>1</td>\n",
       "      <td>39</td>\n",
       "      <td>4.0</td>\n",
       "      <td>0</td>\n",
       "      <td>0.0</td>\n",
       "      <td>0.0</td>\n",
       "      <td>0</td>\n",
       "      <td>0</td>\n",
       "      <td>0</td>\n",
       "      <td>195.0</td>\n",
       "      <td>106.0</td>\n",
       "      <td>70.0</td>\n",
       "      <td>26.97</td>\n",
       "      <td>80.0</td>\n",
       "      <td>77.0</td>\n",
       "      <td>0</td>\n",
       "    </tr>\n",
       "    <tr>\n",
       "      <th>1</th>\n",
       "      <td>0</td>\n",
       "      <td>46</td>\n",
       "      <td>2.0</td>\n",
       "      <td>0</td>\n",
       "      <td>0.0</td>\n",
       "      <td>0.0</td>\n",
       "      <td>0</td>\n",
       "      <td>0</td>\n",
       "      <td>0</td>\n",
       "      <td>250.0</td>\n",
       "      <td>121.0</td>\n",
       "      <td>81.0</td>\n",
       "      <td>28.73</td>\n",
       "      <td>95.0</td>\n",
       "      <td>76.0</td>\n",
       "      <td>0</td>\n",
       "    </tr>\n",
       "    <tr>\n",
       "      <th>2</th>\n",
       "      <td>1</td>\n",
       "      <td>48</td>\n",
       "      <td>1.0</td>\n",
       "      <td>1</td>\n",
       "      <td>20.0</td>\n",
       "      <td>0.0</td>\n",
       "      <td>0</td>\n",
       "      <td>0</td>\n",
       "      <td>0</td>\n",
       "      <td>245.0</td>\n",
       "      <td>127.5</td>\n",
       "      <td>80.0</td>\n",
       "      <td>25.34</td>\n",
       "      <td>75.0</td>\n",
       "      <td>70.0</td>\n",
       "      <td>0</td>\n",
       "    </tr>\n",
       "    <tr>\n",
       "      <th>3</th>\n",
       "      <td>0</td>\n",
       "      <td>61</td>\n",
       "      <td>3.0</td>\n",
       "      <td>1</td>\n",
       "      <td>30.0</td>\n",
       "      <td>0.0</td>\n",
       "      <td>0</td>\n",
       "      <td>1</td>\n",
       "      <td>0</td>\n",
       "      <td>225.0</td>\n",
       "      <td>150.0</td>\n",
       "      <td>95.0</td>\n",
       "      <td>28.58</td>\n",
       "      <td>65.0</td>\n",
       "      <td>103.0</td>\n",
       "      <td>1</td>\n",
       "    </tr>\n",
       "    <tr>\n",
       "      <th>4</th>\n",
       "      <td>0</td>\n",
       "      <td>46</td>\n",
       "      <td>3.0</td>\n",
       "      <td>1</td>\n",
       "      <td>23.0</td>\n",
       "      <td>0.0</td>\n",
       "      <td>0</td>\n",
       "      <td>0</td>\n",
       "      <td>0</td>\n",
       "      <td>285.0</td>\n",
       "      <td>130.0</td>\n",
       "      <td>84.0</td>\n",
       "      <td>23.10</td>\n",
       "      <td>85.0</td>\n",
       "      <td>85.0</td>\n",
       "      <td>0</td>\n",
       "    </tr>\n",
       "    <tr>\n",
       "      <th>...</th>\n",
       "      <td>...</td>\n",
       "      <td>...</td>\n",
       "      <td>...</td>\n",
       "      <td>...</td>\n",
       "      <td>...</td>\n",
       "      <td>...</td>\n",
       "      <td>...</td>\n",
       "      <td>...</td>\n",
       "      <td>...</td>\n",
       "      <td>...</td>\n",
       "      <td>...</td>\n",
       "      <td>...</td>\n",
       "      <td>...</td>\n",
       "      <td>...</td>\n",
       "      <td>...</td>\n",
       "      <td>...</td>\n",
       "    </tr>\n",
       "    <tr>\n",
       "      <th>4235</th>\n",
       "      <td>0</td>\n",
       "      <td>48</td>\n",
       "      <td>2.0</td>\n",
       "      <td>1</td>\n",
       "      <td>20.0</td>\n",
       "      <td>NaN</td>\n",
       "      <td>0</td>\n",
       "      <td>0</td>\n",
       "      <td>0</td>\n",
       "      <td>248.0</td>\n",
       "      <td>131.0</td>\n",
       "      <td>72.0</td>\n",
       "      <td>22.00</td>\n",
       "      <td>84.0</td>\n",
       "      <td>86.0</td>\n",
       "      <td>0</td>\n",
       "    </tr>\n",
       "    <tr>\n",
       "      <th>4236</th>\n",
       "      <td>0</td>\n",
       "      <td>44</td>\n",
       "      <td>1.0</td>\n",
       "      <td>1</td>\n",
       "      <td>15.0</td>\n",
       "      <td>0.0</td>\n",
       "      <td>0</td>\n",
       "      <td>0</td>\n",
       "      <td>0</td>\n",
       "      <td>210.0</td>\n",
       "      <td>126.5</td>\n",
       "      <td>87.0</td>\n",
       "      <td>19.16</td>\n",
       "      <td>86.0</td>\n",
       "      <td>NaN</td>\n",
       "      <td>0</td>\n",
       "    </tr>\n",
       "    <tr>\n",
       "      <th>4237</th>\n",
       "      <td>0</td>\n",
       "      <td>52</td>\n",
       "      <td>2.0</td>\n",
       "      <td>0</td>\n",
       "      <td>0.0</td>\n",
       "      <td>0.0</td>\n",
       "      <td>0</td>\n",
       "      <td>0</td>\n",
       "      <td>0</td>\n",
       "      <td>269.0</td>\n",
       "      <td>133.5</td>\n",
       "      <td>83.0</td>\n",
       "      <td>21.47</td>\n",
       "      <td>80.0</td>\n",
       "      <td>107.0</td>\n",
       "      <td>0</td>\n",
       "    </tr>\n",
       "    <tr>\n",
       "      <th>4238</th>\n",
       "      <td>1</td>\n",
       "      <td>40</td>\n",
       "      <td>3.0</td>\n",
       "      <td>0</td>\n",
       "      <td>0.0</td>\n",
       "      <td>0.0</td>\n",
       "      <td>0</td>\n",
       "      <td>1</td>\n",
       "      <td>0</td>\n",
       "      <td>185.0</td>\n",
       "      <td>141.0</td>\n",
       "      <td>98.0</td>\n",
       "      <td>25.60</td>\n",
       "      <td>67.0</td>\n",
       "      <td>72.0</td>\n",
       "      <td>0</td>\n",
       "    </tr>\n",
       "    <tr>\n",
       "      <th>4239</th>\n",
       "      <td>0</td>\n",
       "      <td>39</td>\n",
       "      <td>3.0</td>\n",
       "      <td>1</td>\n",
       "      <td>30.0</td>\n",
       "      <td>0.0</td>\n",
       "      <td>0</td>\n",
       "      <td>0</td>\n",
       "      <td>0</td>\n",
       "      <td>196.0</td>\n",
       "      <td>133.0</td>\n",
       "      <td>86.0</td>\n",
       "      <td>20.91</td>\n",
       "      <td>85.0</td>\n",
       "      <td>80.0</td>\n",
       "      <td>0</td>\n",
       "    </tr>\n",
       "  </tbody>\n",
       "</table>\n",
       "<p>4240 rows × 16 columns</p>\n",
       "</div>"
      ],
      "text/plain": [
       "      male  age  education  currentSmoker  cigsPerDay  BPMeds  \\\n",
       "0        1   39        4.0              0         0.0     0.0   \n",
       "1        0   46        2.0              0         0.0     0.0   \n",
       "2        1   48        1.0              1        20.0     0.0   \n",
       "3        0   61        3.0              1        30.0     0.0   \n",
       "4        0   46        3.0              1        23.0     0.0   \n",
       "...    ...  ...        ...            ...         ...     ...   \n",
       "4235     0   48        2.0              1        20.0     NaN   \n",
       "4236     0   44        1.0              1        15.0     0.0   \n",
       "4237     0   52        2.0              0         0.0     0.0   \n",
       "4238     1   40        3.0              0         0.0     0.0   \n",
       "4239     0   39        3.0              1        30.0     0.0   \n",
       "\n",
       "      prevalentStroke  prevalentHyp  diabetes  totChol  sysBP  diaBP    BMI  \\\n",
       "0                   0             0         0    195.0  106.0   70.0  26.97   \n",
       "1                   0             0         0    250.0  121.0   81.0  28.73   \n",
       "2                   0             0         0    245.0  127.5   80.0  25.34   \n",
       "3                   0             1         0    225.0  150.0   95.0  28.58   \n",
       "4                   0             0         0    285.0  130.0   84.0  23.10   \n",
       "...               ...           ...       ...      ...    ...    ...    ...   \n",
       "4235                0             0         0    248.0  131.0   72.0  22.00   \n",
       "4236                0             0         0    210.0  126.5   87.0  19.16   \n",
       "4237                0             0         0    269.0  133.5   83.0  21.47   \n",
       "4238                0             1         0    185.0  141.0   98.0  25.60   \n",
       "4239                0             0         0    196.0  133.0   86.0  20.91   \n",
       "\n",
       "      heartRate  glucose  TenYearCHD  \n",
       "0          80.0     77.0           0  \n",
       "1          95.0     76.0           0  \n",
       "2          75.0     70.0           0  \n",
       "3          65.0    103.0           1  \n",
       "4          85.0     85.0           0  \n",
       "...         ...      ...         ...  \n",
       "4235       84.0     86.0           0  \n",
       "4236       86.0      NaN           0  \n",
       "4237       80.0    107.0           0  \n",
       "4238       67.0     72.0           0  \n",
       "4239       85.0     80.0           0  \n",
       "\n",
       "[4240 rows x 16 columns]"
      ]
     },
     "execution_count": 49,
     "metadata": {},
     "output_type": "execute_result"
    }
   ],
   "source": [
    "disease"
   ]
  },
  {
   "cell_type": "markdown",
   "id": "0220b889",
   "metadata": {},
   "source": [
    "### Renaming the male column to Sex_male to know that 1 is male and 0 is female"
   ]
  },
  {
   "cell_type": "code",
   "execution_count": 50,
   "id": "86cfa4c7",
   "metadata": {},
   "outputs": [],
   "source": [
    "disease.rename(columns={'male' : 'Sex_male'}, inplace = True)"
   ]
  },
  {
   "cell_type": "code",
   "execution_count": 51,
   "id": "715f51cf",
   "metadata": {},
   "outputs": [
    {
     "data": {
      "text/html": [
       "<div>\n",
       "<style scoped>\n",
       "    .dataframe tbody tr th:only-of-type {\n",
       "        vertical-align: middle;\n",
       "    }\n",
       "\n",
       "    .dataframe tbody tr th {\n",
       "        vertical-align: top;\n",
       "    }\n",
       "\n",
       "    .dataframe thead th {\n",
       "        text-align: right;\n",
       "    }\n",
       "</style>\n",
       "<table border=\"1\" class=\"dataframe\">\n",
       "  <thead>\n",
       "    <tr style=\"text-align: right;\">\n",
       "      <th></th>\n",
       "      <th>Sex_male</th>\n",
       "      <th>age</th>\n",
       "      <th>education</th>\n",
       "      <th>currentSmoker</th>\n",
       "      <th>cigsPerDay</th>\n",
       "      <th>BPMeds</th>\n",
       "      <th>prevalentStroke</th>\n",
       "      <th>prevalentHyp</th>\n",
       "      <th>diabetes</th>\n",
       "      <th>totChol</th>\n",
       "      <th>sysBP</th>\n",
       "      <th>diaBP</th>\n",
       "      <th>BMI</th>\n",
       "      <th>heartRate</th>\n",
       "      <th>glucose</th>\n",
       "      <th>TenYearCHD</th>\n",
       "    </tr>\n",
       "  </thead>\n",
       "  <tbody>\n",
       "    <tr>\n",
       "      <th>0</th>\n",
       "      <td>1</td>\n",
       "      <td>39</td>\n",
       "      <td>4.0</td>\n",
       "      <td>0</td>\n",
       "      <td>0.0</td>\n",
       "      <td>0.0</td>\n",
       "      <td>0</td>\n",
       "      <td>0</td>\n",
       "      <td>0</td>\n",
       "      <td>195.0</td>\n",
       "      <td>106.0</td>\n",
       "      <td>70.0</td>\n",
       "      <td>26.97</td>\n",
       "      <td>80.0</td>\n",
       "      <td>77.0</td>\n",
       "      <td>0</td>\n",
       "    </tr>\n",
       "    <tr>\n",
       "      <th>1</th>\n",
       "      <td>0</td>\n",
       "      <td>46</td>\n",
       "      <td>2.0</td>\n",
       "      <td>0</td>\n",
       "      <td>0.0</td>\n",
       "      <td>0.0</td>\n",
       "      <td>0</td>\n",
       "      <td>0</td>\n",
       "      <td>0</td>\n",
       "      <td>250.0</td>\n",
       "      <td>121.0</td>\n",
       "      <td>81.0</td>\n",
       "      <td>28.73</td>\n",
       "      <td>95.0</td>\n",
       "      <td>76.0</td>\n",
       "      <td>0</td>\n",
       "    </tr>\n",
       "    <tr>\n",
       "      <th>2</th>\n",
       "      <td>1</td>\n",
       "      <td>48</td>\n",
       "      <td>1.0</td>\n",
       "      <td>1</td>\n",
       "      <td>20.0</td>\n",
       "      <td>0.0</td>\n",
       "      <td>0</td>\n",
       "      <td>0</td>\n",
       "      <td>0</td>\n",
       "      <td>245.0</td>\n",
       "      <td>127.5</td>\n",
       "      <td>80.0</td>\n",
       "      <td>25.34</td>\n",
       "      <td>75.0</td>\n",
       "      <td>70.0</td>\n",
       "      <td>0</td>\n",
       "    </tr>\n",
       "    <tr>\n",
       "      <th>3</th>\n",
       "      <td>0</td>\n",
       "      <td>61</td>\n",
       "      <td>3.0</td>\n",
       "      <td>1</td>\n",
       "      <td>30.0</td>\n",
       "      <td>0.0</td>\n",
       "      <td>0</td>\n",
       "      <td>1</td>\n",
       "      <td>0</td>\n",
       "      <td>225.0</td>\n",
       "      <td>150.0</td>\n",
       "      <td>95.0</td>\n",
       "      <td>28.58</td>\n",
       "      <td>65.0</td>\n",
       "      <td>103.0</td>\n",
       "      <td>1</td>\n",
       "    </tr>\n",
       "    <tr>\n",
       "      <th>4</th>\n",
       "      <td>0</td>\n",
       "      <td>46</td>\n",
       "      <td>3.0</td>\n",
       "      <td>1</td>\n",
       "      <td>23.0</td>\n",
       "      <td>0.0</td>\n",
       "      <td>0</td>\n",
       "      <td>0</td>\n",
       "      <td>0</td>\n",
       "      <td>285.0</td>\n",
       "      <td>130.0</td>\n",
       "      <td>84.0</td>\n",
       "      <td>23.10</td>\n",
       "      <td>85.0</td>\n",
       "      <td>85.0</td>\n",
       "      <td>0</td>\n",
       "    </tr>\n",
       "    <tr>\n",
       "      <th>...</th>\n",
       "      <td>...</td>\n",
       "      <td>...</td>\n",
       "      <td>...</td>\n",
       "      <td>...</td>\n",
       "      <td>...</td>\n",
       "      <td>...</td>\n",
       "      <td>...</td>\n",
       "      <td>...</td>\n",
       "      <td>...</td>\n",
       "      <td>...</td>\n",
       "      <td>...</td>\n",
       "      <td>...</td>\n",
       "      <td>...</td>\n",
       "      <td>...</td>\n",
       "      <td>...</td>\n",
       "      <td>...</td>\n",
       "    </tr>\n",
       "    <tr>\n",
       "      <th>4235</th>\n",
       "      <td>0</td>\n",
       "      <td>48</td>\n",
       "      <td>2.0</td>\n",
       "      <td>1</td>\n",
       "      <td>20.0</td>\n",
       "      <td>NaN</td>\n",
       "      <td>0</td>\n",
       "      <td>0</td>\n",
       "      <td>0</td>\n",
       "      <td>248.0</td>\n",
       "      <td>131.0</td>\n",
       "      <td>72.0</td>\n",
       "      <td>22.00</td>\n",
       "      <td>84.0</td>\n",
       "      <td>86.0</td>\n",
       "      <td>0</td>\n",
       "    </tr>\n",
       "    <tr>\n",
       "      <th>4236</th>\n",
       "      <td>0</td>\n",
       "      <td>44</td>\n",
       "      <td>1.0</td>\n",
       "      <td>1</td>\n",
       "      <td>15.0</td>\n",
       "      <td>0.0</td>\n",
       "      <td>0</td>\n",
       "      <td>0</td>\n",
       "      <td>0</td>\n",
       "      <td>210.0</td>\n",
       "      <td>126.5</td>\n",
       "      <td>87.0</td>\n",
       "      <td>19.16</td>\n",
       "      <td>86.0</td>\n",
       "      <td>NaN</td>\n",
       "      <td>0</td>\n",
       "    </tr>\n",
       "    <tr>\n",
       "      <th>4237</th>\n",
       "      <td>0</td>\n",
       "      <td>52</td>\n",
       "      <td>2.0</td>\n",
       "      <td>0</td>\n",
       "      <td>0.0</td>\n",
       "      <td>0.0</td>\n",
       "      <td>0</td>\n",
       "      <td>0</td>\n",
       "      <td>0</td>\n",
       "      <td>269.0</td>\n",
       "      <td>133.5</td>\n",
       "      <td>83.0</td>\n",
       "      <td>21.47</td>\n",
       "      <td>80.0</td>\n",
       "      <td>107.0</td>\n",
       "      <td>0</td>\n",
       "    </tr>\n",
       "    <tr>\n",
       "      <th>4238</th>\n",
       "      <td>1</td>\n",
       "      <td>40</td>\n",
       "      <td>3.0</td>\n",
       "      <td>0</td>\n",
       "      <td>0.0</td>\n",
       "      <td>0.0</td>\n",
       "      <td>0</td>\n",
       "      <td>1</td>\n",
       "      <td>0</td>\n",
       "      <td>185.0</td>\n",
       "      <td>141.0</td>\n",
       "      <td>98.0</td>\n",
       "      <td>25.60</td>\n",
       "      <td>67.0</td>\n",
       "      <td>72.0</td>\n",
       "      <td>0</td>\n",
       "    </tr>\n",
       "    <tr>\n",
       "      <th>4239</th>\n",
       "      <td>0</td>\n",
       "      <td>39</td>\n",
       "      <td>3.0</td>\n",
       "      <td>1</td>\n",
       "      <td>30.0</td>\n",
       "      <td>0.0</td>\n",
       "      <td>0</td>\n",
       "      <td>0</td>\n",
       "      <td>0</td>\n",
       "      <td>196.0</td>\n",
       "      <td>133.0</td>\n",
       "      <td>86.0</td>\n",
       "      <td>20.91</td>\n",
       "      <td>85.0</td>\n",
       "      <td>80.0</td>\n",
       "      <td>0</td>\n",
       "    </tr>\n",
       "  </tbody>\n",
       "</table>\n",
       "<p>4240 rows × 16 columns</p>\n",
       "</div>"
      ],
      "text/plain": [
       "      Sex_male  age  education  currentSmoker  cigsPerDay  BPMeds  \\\n",
       "0            1   39        4.0              0         0.0     0.0   \n",
       "1            0   46        2.0              0         0.0     0.0   \n",
       "2            1   48        1.0              1        20.0     0.0   \n",
       "3            0   61        3.0              1        30.0     0.0   \n",
       "4            0   46        3.0              1        23.0     0.0   \n",
       "...        ...  ...        ...            ...         ...     ...   \n",
       "4235         0   48        2.0              1        20.0     NaN   \n",
       "4236         0   44        1.0              1        15.0     0.0   \n",
       "4237         0   52        2.0              0         0.0     0.0   \n",
       "4238         1   40        3.0              0         0.0     0.0   \n",
       "4239         0   39        3.0              1        30.0     0.0   \n",
       "\n",
       "      prevalentStroke  prevalentHyp  diabetes  totChol  sysBP  diaBP    BMI  \\\n",
       "0                   0             0         0    195.0  106.0   70.0  26.97   \n",
       "1                   0             0         0    250.0  121.0   81.0  28.73   \n",
       "2                   0             0         0    245.0  127.5   80.0  25.34   \n",
       "3                   0             1         0    225.0  150.0   95.0  28.58   \n",
       "4                   0             0         0    285.0  130.0   84.0  23.10   \n",
       "...               ...           ...       ...      ...    ...    ...    ...   \n",
       "4235                0             0         0    248.0  131.0   72.0  22.00   \n",
       "4236                0             0         0    210.0  126.5   87.0  19.16   \n",
       "4237                0             0         0    269.0  133.5   83.0  21.47   \n",
       "4238                0             1         0    185.0  141.0   98.0  25.60   \n",
       "4239                0             0         0    196.0  133.0   86.0  20.91   \n",
       "\n",
       "      heartRate  glucose  TenYearCHD  \n",
       "0          80.0     77.0           0  \n",
       "1          95.0     76.0           0  \n",
       "2          75.0     70.0           0  \n",
       "3          65.0    103.0           1  \n",
       "4          85.0     85.0           0  \n",
       "...         ...      ...         ...  \n",
       "4235       84.0     86.0           0  \n",
       "4236       86.0      NaN           0  \n",
       "4237       80.0    107.0           0  \n",
       "4238       67.0     72.0           0  \n",
       "4239       85.0     80.0           0  \n",
       "\n",
       "[4240 rows x 16 columns]"
      ]
     },
     "execution_count": 51,
     "metadata": {},
     "output_type": "execute_result"
    }
   ],
   "source": [
    "disease"
   ]
  },
  {
   "cell_type": "markdown",
   "id": "06fb4814",
   "metadata": {},
   "source": [
    "### Handling the missing values"
   ]
  },
  {
   "cell_type": "code",
   "execution_count": 54,
   "id": "0cc953e7",
   "metadata": {},
   "outputs": [
    {
     "data": {
      "text/plain": [
       "Sex_male             0\n",
       "age                  0\n",
       "currentSmoker        0\n",
       "cigsPerDay          29\n",
       "BPMeds              53\n",
       "prevalentStroke      0\n",
       "prevalentHyp         0\n",
       "diabetes             0\n",
       "totChol             50\n",
       "sysBP                0\n",
       "diaBP                0\n",
       "BMI                 19\n",
       "heartRate            1\n",
       "glucose            388\n",
       "TenYearCHD           0\n",
       "dtype: int64"
      ]
     },
     "execution_count": 54,
     "metadata": {},
     "output_type": "execute_result"
    }
   ],
   "source": [
    "disease.isnull().sum()"
   ]
  },
  {
   "cell_type": "code",
   "execution_count": 55,
   "id": "ad5b5291",
   "metadata": {},
   "outputs": [
    {
     "data": {
      "text/plain": [
       "1.2470523561848126"
      ]
     },
     "execution_count": 55,
     "metadata": {},
     "output_type": "execute_result"
    }
   ],
   "source": [
    "disease['cigsPerDay'].skew()"
   ]
  },
  {
   "cell_type": "code",
   "execution_count": 56,
   "id": "3b48fd71",
   "metadata": {},
   "outputs": [],
   "source": [
    "#As the skew of cigsPerDay is greater than 0 so we fill the null value of totChol with median\n",
    "disease['cigsPerDay'] = disease['cigsPerDay'].fillna(disease['cigsPerDay'].mean())"
   ]
  },
  {
   "cell_type": "code",
   "execution_count": 57,
   "id": "fca7dc97",
   "metadata": {},
   "outputs": [
    {
     "data": {
      "text/plain": [
       "0.8718805634765354"
      ]
     },
     "execution_count": 57,
     "metadata": {},
     "output_type": "execute_result"
    }
   ],
   "source": [
    "disease['totChol'].skew()"
   ]
  },
  {
   "cell_type": "code",
   "execution_count": 58,
   "id": "ecac1e77",
   "metadata": {},
   "outputs": [],
   "source": [
    "#As the skew is 0.87 which is greater than 0 so we fill the null value of totChol with median\n",
    "disease['totChol']=disease['totChol'].fillna(disease['totChol'].mean())"
   ]
  },
  {
   "cell_type": "code",
   "execution_count": 59,
   "id": "bea2b410",
   "metadata": {},
   "outputs": [],
   "source": [
    "#As the BPMeds is in binary form so we use mode to fill the null values\n",
    "disease['BPMeds']=disease['BPMeds'].fillna(disease['BPMeds'].mode()[0])\n"
   ]
  },
  {
   "cell_type": "code",
   "execution_count": 60,
   "id": "4cbb3292",
   "metadata": {},
   "outputs": [
    {
     "data": {
      "text/plain": [
       "0.9821832986950597"
      ]
     },
     "execution_count": 60,
     "metadata": {},
     "output_type": "execute_result"
    }
   ],
   "source": [
    "disease['BMI'].skew()"
   ]
  },
  {
   "cell_type": "code",
   "execution_count": 61,
   "id": "d5019fa5",
   "metadata": {},
   "outputs": [],
   "source": [
    "#As the skew is 0.98 which is greater than 0 so we fill the null value of BMI with median\n",
    "disease['BMI']=disease['BMI'].fillna(disease['BMI'].median())"
   ]
  },
  {
   "cell_type": "code",
   "execution_count": 62,
   "id": "eb84cab1",
   "metadata": {},
   "outputs": [
    {
     "data": {
      "text/plain": [
       "6.2149483495346765"
      ]
     },
     "execution_count": 62,
     "metadata": {},
     "output_type": "execute_result"
    }
   ],
   "source": [
    "disease['glucose'].skew()"
   ]
  },
  {
   "cell_type": "code",
   "execution_count": 63,
   "id": "fe838b11",
   "metadata": {},
   "outputs": [],
   "source": [
    "#As the skew is 6.214 which is highly greater than 0 so we fill the null value of glucose with median\n",
    "disease['glucose']=disease['glucose'].fillna(disease['glucose'].median())"
   ]
  },
  {
   "cell_type": "code",
   "execution_count": 64,
   "id": "534e3f4e",
   "metadata": {},
   "outputs": [
    {
     "data": {
      "text/plain": [
       "Sex_male           0\n",
       "age                0\n",
       "currentSmoker      0\n",
       "cigsPerDay         0\n",
       "BPMeds             0\n",
       "prevalentStroke    0\n",
       "prevalentHyp       0\n",
       "diabetes           0\n",
       "totChol            0\n",
       "sysBP              0\n",
       "diaBP              0\n",
       "BMI                0\n",
       "heartRate          1\n",
       "glucose            0\n",
       "TenYearCHD         0\n",
       "dtype: int64"
      ]
     },
     "execution_count": 64,
     "metadata": {},
     "output_type": "execute_result"
    }
   ],
   "source": [
    "disease.isnull().sum()"
   ]
  },
  {
   "cell_type": "markdown",
   "id": "5f0bd570",
   "metadata": {},
   "source": [
    "### Making a Bar Plot to Count people affected by CHD"
   ]
  },
  {
   "cell_type": "code",
   "execution_count": 65,
   "id": "ab925ced",
   "metadata": {},
   "outputs": [
    {
     "data": {
      "image/png": "[encoded data removed]",
      "text/plain": [
       "<Figure size 640x480 with 1 Axes>"
      ]
     },
     "metadata": {},
     "output_type": "display_data"
    }
   ],
   "source": [
    "counts = disease[\"TenYearCHD\"].value_counts()\n",
    "\n",
    "plt.bar([\"Not Affected\", \"Affected\"], counts, color=[\"green\", \"red\"])\n",
    "plt.title(\"CHD Status\")\n",
    "plt.ylabel(\"Number of People\")\n",
    "plt.xlabel(\"CHD Status\")\n",
    "plt.show()"
   ]
  },
  {
   "cell_type": "markdown",
   "id": "2a57769c",
   "metadata": {},
   "source": [
    "### Spliting the data"
   ]
  },
  {
   "cell_type": "code",
   "execution_count": 66,
   "id": "b327d9e7",
   "metadata": {},
   "outputs": [
    {
     "name": "stdout",
     "output_type": "stream",
     "text": [
      "Train set: (2968, 6) (2968,)\n",
      "Test set: (1272, 6) (1272,)\n"
     ]
    }
   ],
   "source": [
    "X = np.asarray(disease[['age', 'Sex_male', 'cigsPerDay', \n",
    "                           'totChol', 'sysBP', 'glucose']])\n",
    "y = np.asarray(disease['TenYearCHD'])\n",
    "\n",
    "# normalization of the dataset\n",
    "X = preprocessing.StandardScaler().fit_transform(X)\n",
    "\n",
    "# Train test split\n",
    "from sklearn.model_selection import train_test_split\n",
    "\n",
    "X_train,X_test,y_train,y_test = train_test_split(X,y, test_size=0.3, random_state=4)\n",
    "\n",
    "print(f\"Train set: {X_train.shape} {y_train.shape}\")\n",
    "print(f\"Test set: {X_test.shape} {y_test.shape}\")"
   ]
  },
  {
   "cell_type": "code",
   "execution_count": 67,
   "id": "665325c4",
   "metadata": {},
   "outputs": [
    {
     "name": "stdout",
     "output_type": "stream",
     "text": [
      "Train set: (5024, 6) (5024,)\n",
      "Test set: (1272, 6) (1272,)\n"
     ]
    }
   ],
   "source": [
    "# As you can see from the barplot there is a bias in data so we use smote to \n",
    "# Handle class imbalance with SMOTE (Oversampling the minority class) \n",
    "smote = SMOTE(random_state=42)\n",
    "X_resampled, y_resampled = smote.fit_resample(X_train, y_train)\n",
    "\n",
    "print(f\"Train set: {X_resampled.shape} {y_resampled.shape}\")\n",
    "print(f\"Test set: {X_test.shape} {y_test.shape}\")"
   ]
  },
  {
   "cell_type": "markdown",
   "id": "d7cc4636",
   "metadata": {},
   "source": [
    "### Fitting Logistic Regresssion Model for Heart Disease Prediction "
   ]
  },
  {
   "cell_type": "code",
   "execution_count": 111,
   "id": "28b8aecf",
   "metadata": {},
   "outputs": [],
   "source": [
    "from sklearn.linear_model import LogisticRegression\n",
    "model = LogisticRegression()\n",
    "model.fit(X_resampled,y_resampled)\n",
    "y_pred = model.predict(X_test)"
   ]
  },
  {
   "cell_type": "markdown",
   "id": "e6ff5204",
   "metadata": {},
   "source": [
    "### Checking the Accuracy of the model"
   ]
  },
  {
   "cell_type": "code",
   "execution_count": 114,
   "id": "3878381b",
   "metadata": {},
   "outputs": [
    {
     "name": "stdout",
     "output_type": "stream",
     "text": [
      "Accuracy of the model is = 66.04\n",
      "ROC-AUC Score: 72.07\n"
     ]
    }
   ],
   "source": [
    "score_lr=round(accuracy_score(y_test,y_pred)*100,2)\n",
    "roc_lr= round(roc_auc_score(y_test, model.predict_proba(X_test)[:, 1])*100,2)\n",
    "print(\"Accuracy of the model is =\",score_lr)\n",
    "print(\"ROC-AUC Score:\",roc_lr)"
   ]
  },
  {
   "cell_type": "code",
   "execution_count": 115,
   "id": "7b4d35ca",
   "metadata": {},
   "outputs": [
    {
     "data": {
      "image/png": "[encoded data removed]",
      "text/plain": [
       "<Figure size 800x500 with 2 Axes>"
      ]
     },
     "metadata": {},
     "output_type": "display_data"
    },
    {
     "name": "stdout",
     "output_type": "stream",
     "text": [
      "The details for confusion matrix is =\n",
      "              precision    recall  f1-score   support\n",
      "\n",
      "           0       0.93      0.65      0.77      1084\n",
      "           1       0.26      0.70      0.38       188\n",
      "\n",
      "    accuracy                           0.66      1272\n",
      "   macro avg       0.59      0.68      0.57      1272\n",
      "weighted avg       0.83      0.66      0.71      1272\n",
      "\n"
     ]
    }
   ],
   "source": [
    "# Confusion matrix\n",
    "from sklearn.metrics import confusion_matrix, classification_report\n",
    "\n",
    "cm = confusion_matrix(y_test, y_pred)\n",
    "conf_matrix = pd.DataFrame(data = cm,\n",
    "                           columns = ['Predicted:0', 'Predicted:1'],\n",
    "                           index =['Actual:0', 'Actual:1'])\n",
    "\n",
    "plt.figure(figsize = (8, 5))\n",
    "sns.heatmap(conf_matrix, annot = True, fmt = 'd', cmap = \"Greens\")\n",
    "\n",
    "plt.show()\n",
    "print('The details for confusion matrix is =')\n",
    "print (classification_report(y_test, y_pred))"
   ]
  },
  {
   "cell_type": "markdown",
   "id": "d869e7d0",
   "metadata": {},
   "source": [
    "### Fitting Random Forest Clasifier for Heart Disease Prediction"
   ]
  },
  {
   "cell_type": "code",
   "execution_count": 116,
   "id": "14de3985",
   "metadata": {},
   "outputs": [
    {
     "name": "stdout",
     "output_type": "stream",
     "text": [
      "              precision    recall  f1-score   support\n",
      "\n",
      "           0       0.87      0.87      0.87      1084\n",
      "           1       0.27      0.28      0.28       188\n",
      "\n",
      "    accuracy                           0.78      1272\n",
      "   macro avg       0.57      0.57      0.57      1272\n",
      "weighted avg       0.79      0.78      0.79      1272\n",
      "\n",
      "Accuracy of the model:  78.46\n",
      "ROC-AUC Score: 68.62\n"
     ]
    }
   ],
   "source": [
    "# Train a model\n",
    "model_RFC = RandomForestClassifier(class_weight='balanced', random_state=42)\n",
    "model_RFC.fit(X_resampled, y_resampled)\n",
    "\n",
    "# Evaluate\n",
    "y_pred = model_RFC.predict(X_test)\n",
    "\n",
    "print(classification_report(y_test, y_pred))\n",
    "\n",
    "score_rf = round(accuracy_score(y_test,y_pred)*100,2)\n",
    "roc_rf = round( roc_auc_score(y_test, model_RFC.predict_proba(X_test)[:, 1])*100,2)\n",
    "\n",
    "print(\"Accuracy of the model: \",score_rf)\n",
    "print(\"ROC-AUC Score:\",roc_rf)"
   ]
  },
  {
   "cell_type": "code",
   "execution_count": 117,
   "id": "43a2929f",
   "metadata": {},
   "outputs": [
    {
     "data": {
      "image/png": "[encoded data removed]",
      "text/plain": [
       "<Figure size 800x500 with 2 Axes>"
      ]
     },
     "metadata": {},
     "output_type": "display_data"
    },
    {
     "name": "stdout",
     "output_type": "stream",
     "text": [
      "The details for confusion matrix is =\n",
      "              precision    recall  f1-score   support\n",
      "\n",
      "           0       0.87      0.87      0.87      1084\n",
      "           1       0.27      0.28      0.28       188\n",
      "\n",
      "    accuracy                           0.78      1272\n",
      "   macro avg       0.57      0.57      0.57      1272\n",
      "weighted avg       0.79      0.78      0.79      1272\n",
      "\n"
     ]
    }
   ],
   "source": [
    "# Confusion matrix\n",
    "from sklearn.metrics import confusion_matrix, classification_report\n",
    "\n",
    "cm = confusion_matrix(y_test, y_pred)\n",
    "conf_matrix = pd.DataFrame(data = cm,\n",
    "                           columns = ['Predicted:0', 'Predicted:1'],\n",
    "                           index =['Actual:0', 'Actual:1'])\n",
    "\n",
    "plt.figure(figsize = (8, 5))\n",
    "sns.heatmap(conf_matrix, annot = True, fmt = 'd', cmap = \"Greens\")\n",
    "\n",
    "plt.show()\n",
    "print('The details for confusion matrix is =')\n",
    "print (classification_report(y_test, y_pred))"
   ]
  },
  {
   "cell_type": "markdown",
   "id": "9ea27a24",
   "metadata": {},
   "source": [
    "### Fitting SVC while using gaussian rbf kernel for Heart Disease Prediction"
   ]
  },
  {
   "cell_type": "code",
   "execution_count": 121,
   "id": "dffc2805",
   "metadata": {},
   "outputs": [
    {
     "name": "stdout",
     "output_type": "stream",
     "text": [
      "              precision    recall  f1-score   support\n",
      "\n",
      "           0       0.91      0.68      0.78      1084\n",
      "           1       0.25      0.61      0.35       188\n",
      "\n",
      "    accuracy                           0.67      1272\n",
      "   macro avg       0.58      0.65      0.57      1272\n",
      "weighted avg       0.81      0.67      0.72      1272\n",
      "\n",
      "Acurracy of the model is : 67.3\n",
      "ROC-AUC Score: 69.62\n"
     ]
    }
   ],
   "source": [
    "# Train the SVC model with class weights\n",
    "svc = SVC(kernel='rbf', class_weight='balanced', probability=True, random_state=42)\n",
    "svc.fit(X_resampled, y_resampled)\n",
    "\n",
    "# Make predictions and evaluate the model\n",
    "y_pred = svc.predict(X_test)\n",
    "\n",
    "# Evaluate performance\n",
    "roc_svc_rbf = round(roc_auc_score(y_test, svc.predict_proba(X_test)[:, 1])*100,2)\n",
    "score_svc_rbf = round(accuracy_score(y_test,y_pred)*100,2)\n",
    "\n",
    "\n",
    "print(classification_report(y_test, y_pred))\n",
    "print(\"Acurracy of the model is :\",score_svc_rbf)\n",
    "print(\"ROC-AUC Score:\",roc_svc_rbf)\n"
   ]
  },
  {
   "cell_type": "code",
   "execution_count": 122,
   "id": "432586df",
   "metadata": {},
   "outputs": [
    {
     "data": {
      "image/png": "[encoded data removed]",
      "text/plain": [
       "<Figure size 800x500 with 2 Axes>"
      ]
     },
     "metadata": {},
     "output_type": "display_data"
    },
    {
     "name": "stdout",
     "output_type": "stream",
     "text": [
      "The details for confusion matrix is =\n",
      "              precision    recall  f1-score   support\n",
      "\n",
      "           0       0.91      0.68      0.78      1084\n",
      "           1       0.25      0.61      0.35       188\n",
      "\n",
      "    accuracy                           0.67      1272\n",
      "   macro avg       0.58      0.65      0.57      1272\n",
      "weighted avg       0.81      0.67      0.72      1272\n",
      "\n"
     ]
    }
   ],
   "source": [
    "# Confusion matrix\n",
    "from sklearn.metrics import confusion_matrix, classification_report\n",
    "\n",
    "cm = confusion_matrix(y_test, y_pred)\n",
    "conf_matrix = pd.DataFrame(data = cm,\n",
    "                           columns = ['Predicted:0', 'Predicted:1'],\n",
    "                           index =['Actual:0', 'Actual:1'])\n",
    "\n",
    "plt.figure(figsize = (8, 5))\n",
    "sns.heatmap(conf_matrix, annot = True, fmt = 'd', cmap = \"Greens\")\n",
    "\n",
    "plt.show()\n",
    "print('The details for confusion matrix is =')\n",
    "print (classification_report(y_test, y_pred))"
   ]
  },
  {
   "cell_type": "markdown",
   "id": "19caa5e4",
   "metadata": {},
   "source": [
    "### Fitting SVC while using linear kernel for Heart Disease Prediction"
   ]
  },
  {
   "cell_type": "code",
   "execution_count": 123,
   "id": "575dddcb",
   "metadata": {},
   "outputs": [
    {
     "name": "stdout",
     "output_type": "stream",
     "text": [
      "              precision    recall  f1-score   support\n",
      "\n",
      "           0       0.92      0.65      0.76      1084\n",
      "           1       0.25      0.68      0.36       188\n",
      "\n",
      "    accuracy                           0.65      1272\n",
      "   macro avg       0.58      0.66      0.56      1272\n",
      "weighted avg       0.82      0.65      0.70      1272\n",
      "\n",
      "Acurracy of the model is : 65.02\n",
      "ROC-AUC Score: 71.87\n"
     ]
    }
   ],
   "source": [
    "# Train the model\n",
    "linear_svc_model=SVC(kernel=\"linear\", class_weight=\"balanced\", probability=True)\n",
    "linear_svc_model.fit(X_resampled,y_resampled)\n",
    "\n",
    "# Make predictions and evaluate the model\n",
    "y_pred = linear_svc_model.predict(X_test)\n",
    "\n",
    "# Evaluate the model\n",
    "score_linearsvc = round(accuracy_score(y_test,y_pred)*100,2)\n",
    "roc_linearsvc = round(roc_auc_score(y_test, linear_svc_model.predict_proba(X_test)[:, 1])*100,2)\n",
    "print(classification_report(y_test, y_pred))\n",
    "print(\"Acurracy of the model is :\",score_linearsvc)\n",
    "print(\"ROC-AUC Score:\", roc_linearsvc)"
   ]
  },
  {
   "cell_type": "code",
   "execution_count": 124,
   "id": "a637d6ef",
   "metadata": {},
   "outputs": [
    {
     "data": {
      "image/png": "[encoded data removed]",
      "text/plain": [
       "<Figure size 800x500 with 2 Axes>"
      ]
     },
     "metadata": {},
     "output_type": "display_data"
    },
    {
     "name": "stdout",
     "output_type": "stream",
     "text": [
      "The details for confusion matrix is =\n",
      "              precision    recall  f1-score   support\n",
      "\n",
      "           0       0.92      0.65      0.76      1084\n",
      "           1       0.25      0.68      0.36       188\n",
      "\n",
      "    accuracy                           0.65      1272\n",
      "   macro avg       0.58      0.66      0.56      1272\n",
      "weighted avg       0.82      0.65      0.70      1272\n",
      "\n"
     ]
    }
   ],
   "source": [
    "# Confusion matrix\n",
    "from sklearn.metrics import confusion_matrix, classification_report\n",
    "\n",
    "cm = confusion_matrix(y_test, y_pred)\n",
    "conf_matrix = pd.DataFrame(data = cm,\n",
    "                           columns = ['Predicted:0', 'Predicted:1'],\n",
    "                           index =['Actual:0', 'Actual:1'])\n",
    "\n",
    "plt.figure(figsize = (8, 5))\n",
    "sns.heatmap(conf_matrix, annot = True, fmt = 'd', cmap = \"Greens\")\n",
    "\n",
    "plt.show()\n",
    "print('The details for confusion matrix is =')\n",
    "print (classification_report(y_test, y_pred))"
   ]
  },
  {
   "cell_type": "code",
   "execution_count": 131,
   "id": "9c855fd9",
   "metadata": {},
   "outputs": [
    {
     "name": "stdout",
     "output_type": "stream",
     "text": [
      "              precision    recall  f1-score   support\n",
      "\n",
      "           0       0.90      0.69      0.78      1084\n",
      "           1       0.23      0.54      0.32       188\n",
      "\n",
      "    accuracy                           0.67      1272\n",
      "   macro avg       0.56      0.61      0.55      1272\n",
      "weighted avg       0.80      0.67      0.71      1272\n",
      "\n",
      "Acurracy of the model is : 66.9\n",
      "ROC-AUC Score: 65.18\n",
      "Acurracy of the model on training is : 0.7231289808917197\n"
     ]
    }
   ],
   "source": [
    "# Train the model\n",
    "poly_svc_model=SVC(kernel=\"poly\", degree=4, coef0=1, class_weight=\"balanced\", probability=True)\n",
    "poly_svc_model.fit(X_resampled,y_resampled)\n",
    "\n",
    "# Make predictions and evaluate the model\n",
    "y_train_predict =poly_svc_model.predict(X_resampled)\n",
    "y_pred = poly_svc_model.predict(X_test)\n",
    "\n",
    "# Evaluate the model\n",
    "score_polysvc = round(accuracy_score(y_test,y_pred)*100,2)\n",
    "roc_polysvc = round(roc_auc_score(y_test,poly_svc_model.predict_proba(X_test)[:,-1])*100,2)\n",
    "\n",
    "print(classification_report(y_test, y_pred))\n",
    "print(\"Acurracy of the model is :\",score_polysvc)\n",
    "print(\"ROC-AUC Score:\", roc_polysvc)\n",
    "print(\"Acurracy of the model on training is :\",accuracy_score(y_resampled,y_train_predict))"
   ]
  },
  {
   "cell_type": "code",
   "execution_count": 109,
   "id": "7ec925e5",
   "metadata": {},
   "outputs": [
    {
     "data": {
      "image/png": "[encoded data removed]",
      "text/plain": [
       "<Figure size 800x500 with 2 Axes>"
      ]
     },
     "metadata": {},
     "output_type": "display_data"
    },
    {
     "name": "stdout",
     "output_type": "stream",
     "text": [
      "The details for confusion matrix is =\n",
      "              precision    recall  f1-score   support\n",
      "\n",
      "           0       0.88      0.82      0.85      1084\n",
      "           1       0.24      0.34      0.28       188\n",
      "\n",
      "    accuracy                           0.75      1272\n",
      "   macro avg       0.56      0.58      0.56      1272\n",
      "weighted avg       0.78      0.75      0.76      1272\n",
      "\n"
     ]
    }
   ],
   "source": [
    "# Confusion matrix\n",
    "from sklearn.metrics import confusion_matrix, classification_report\n",
    "\n",
    "cm = confusion_matrix(y_test, y_pred)\n",
    "conf_matrix = pd.DataFrame(data = cm,\n",
    "                           columns = ['Predicted:0', 'Predicted:1'],\n",
    "                           index =['Actual:0', 'Actual:1'])\n",
    "\n",
    "plt.figure(figsize = (8, 5))\n",
    "sns.heatmap(conf_matrix, annot = True, fmt = 'd', cmap = \"Greens\")\n",
    "\n",
    "plt.show()\n",
    "print('The details for confusion matrix is =')\n",
    "print (classification_report(y_test, y_pred))"
   ]
  },
  {
   "cell_type": "markdown",
   "id": "bd0eff92",
   "metadata": {},
   "source": [
    "### Final Output"
   ]
  },
  {
   "cell_type": "code",
   "execution_count": 142,
   "id": "900f8c8e",
   "metadata": {},
   "outputs": [
    {
     "name": "stdout",
     "output_type": "stream",
     "text": [
      "The Accuracy and ROC score achieved using Logistic Regression is: 66.04% and 72.07%\n",
      "The Accuracy and ROC score achieved using LinearSVC is: 65.02% and 71.87%\n",
      "The Accuracy and ROC score achieved using Polynomial SVC is: 66.9% and 65.18%\n",
      "The Accuracy and ROC score achieved using Random Forest is: 78.46% and 68.62%\n",
      "The Accuracy and ROC score achieved using Gaussian RBF SVC is: 67.3% and 69.62%\n"
     ]
    }
   ],
   "source": [
    "scores= [score_lr,score_linearsvc,score_polysvc,score_rf,score_svc_rbf]\n",
    "rocs = [roc_lr,roc_linearsvc,roc_polysvc,roc_rf,roc_svc_rbf]\n",
    "algorithms = [\"Logistic Regression\",\"LinearSVC\",\"Polynomial SVC\",\"Random Forest\", \"Gaussian RBF SVC\"]\n",
    "\n",
    "for i in range(len(algorithms)):\n",
    "    print(f\"The Accuracy and ROC score achieved using {algorithms[i]} is: {scores[i]}% and {rocs[i]}%\")"
   ]
  },
  {
   "cell_type": "code",
   "execution_count": 145,
   "id": "60f3afb0",
   "metadata": {},
   "outputs": [
    {
     "data": {
      "image/png": "[encoded data removed]",
      "text/plain": [
       "<Figure size 1500x800 with 1 Axes>"
      ]
     },
     "metadata": {},
     "output_type": "display_data"
    }
   ],
   "source": [
    "sns.set(rc={'figure.figsize': (15, 8)})\n",
    "plt.xlabel(\"Algorithms\")\n",
    "plt.ylabel(\"Accuracy Score\")\n",
    "\n",
    "# Explicitly specify x and y\n",
    "sns.barplot(x=algorithms, y=scores)\n",
    "plt.show()"
   ]
  },
  {
   "cell_type": "code",
   "execution_count": null,
   "id": "5ba968c7",
   "metadata": {},
   "outputs": [],
   "source": []
  }
 ],
 "metadata": {
  "kernelspec": {
   "display_name": "Python 3 (ipykernel)",
   "language": "python",
   "name": "python3"
  },
  "language_info": {
   "codemirror_mode": {
    "name": "ipython",
    "version": 3
   },
   "file_extension": ".py",
   "mimetype": "text/x-python",
   "name": "python",
   "nbconvert_exporter": "python",
   "pygments_lexer": "ipython3",
   "version": "3.11.3"
  }
 },
 "nbformat": 4,
 "nbformat_minor": 5
}
